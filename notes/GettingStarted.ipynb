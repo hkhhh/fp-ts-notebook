{
 "cells": [
  {
   "cell_type": "markdown",
   "id": "95ae5d74",
   "metadata": {},
   "source": [
    "# Getting started\n",
    "\n",
    "TypeScript函数式编程基础"
   ]
  },
  {
   "cell_type": "markdown",
   "id": "ac91c700",
   "metadata": {},
   "source": [
    "## 类型类(Type Class)与实例(instance)\n",
    "\n",
    "### Type Class\n",
    "> 在函数编程中，开发者常常会去定义通过定义一组“操作”(函数/变量)，并将这些“操作”应用于某个类型。Type Class强调的是类型行为的抽象和扩展。\n",
    "在TypeScript中，常用 `interface` 声明一个Type Class，例如："
   ]
  },
  {
   "cell_type": "code",
   "execution_count": 1,
   "id": "f8215f45",
   "metadata": {},
   "outputs": [],
   "source": [
    "interface Eq<A> {\n",
    "  /** returns `true` if `x` is equal to `y` */\n",
    "  readonly equals: (x: A, y: A) => boolean\n",
    "}"
   ]
  },
  {
   "cell_type": "markdown",
   "id": "1d6a2ee3",
   "metadata": {},
   "source": [
    "上面示例中，类型 `A` 属于类型类 `Eq`，并为类型 `A` 应用 `equals` 函数。"
   ]
  },
  {
   "cell_type": "markdown",
   "id": "48b85cf0",
   "metadata": {},
   "source": [
    "### instance\n",
    "instance即为某个具体类型的类型类实现，必须满足以下定律：\n",
    "* 自反性（Reflexivity）：对于集合A中的任意x，equals(x, x) === true\n",
    "* 对称性（Symmetry）：对于集合A中的任意x、y，equals(x, y) === equals(y, x)\n",
    "* 传递性（Transitivity）：对于集合A中的任意x、y、z，如果equals(x, y) === true 且 equals(y, z) === true，则 equals(x, z) === true"
   ]
  },
  {
   "cell_type": "code",
   "execution_count": 2,
   "id": "0b32eab5",
   "metadata": {},
   "outputs": [],
   "source": [
    "const eqNumber: Eq<number> = {\n",
    "  equals: (x, y) => x === y\n",
    "}"
   ]
  },
  {
   "cell_type": "markdown",
   "id": "55b05c4e",
   "metadata": {},
   "source": [
    "[维基百科](https://zh.wikipedia.org/wiki/%E7%B1%BB%E5%9E%8B%E7%B1%BB)中对类型类的解释中有提到，一个类型类往往会涉及到一个**类型类T**和**类型变量a**，我们可以据此理解上述示例中:\n",
    "```\n",
    "                ┌─── 类型类\n",
    "                |    ┌─── 类型变量number\n",
    "                ▼    ▼\n",
    "const eqNumber: Eq<number>\n",
    "```"
   ]
  },
  {
   "cell_type": "markdown",
   "id": "4adb23c5",
   "metadata": {},
   "source": [
    "### Type class 示例 - `Ord`\n",
    "\n",
    "上面的案例中，使用类型类`Eq<A>`可以实现判断两个元素是否相等，借助于`Eq<A>`，可以实现类型元素的排序。"
   ]
  },
  {
   "cell_type": "code",
   "execution_count": null,
   "id": "36afc2e9",
   "metadata": {},
   "outputs": [],
   "source": [
    "/**\n",
    " * 排序结果类型，-1表示小于，0表示等于，1表示大于\n",
    " */\n",
    "type Ordering = -1 | 0 | 1;\n",
    "\n",
    "/**\n",
    " * Ord 类型类，扩展自 Eq<A>\n",
    " * compare: 比较两个元素，返回 Ordering 类型\n",
    " */\n",
    "interface Ord<A> extends Eq<A> {\n",
    "  readonly compare: (x: A, y: A) => Ordering;\n",
    "}\n",
    "\n",
    "/**\n",
    " * 默认的相等判断函数：先用===判断，如果不等则用compare判断是否为0\n",
    " * compare为Ord类型的比较函数\n",
    " */\n",
    "const equalsDefault =\n",
    "  <A>(compare: Ord<A>['compare']): Eq<A>['equals'] =>\n",
    "  (first, second) => first === second || compare(first, second) === 0;\n",
    "\n",
    "/**\n",
    " * 根据compare函数快速构造Ord实例\n",
    " * 自动生成equals和compare方法\n",
    " */\n",
    "const fromCompare =\n",
    "  <A>(compare: Ord<A>['compare']): Ord<A> => ({\n",
    "    equals: equalsDefault(compare),\n",
    "    compare\n",
    "  })\n",
    "\n",
    "/**\n",
    " * number类型的Ord实例，按数值大小比较\n",
    " */\n",
    "const ordNumber: Ord<number> = fromCompare((x, y) => x < y ? -1 : x > y ? 1 : 0);\n",
    "\n",
    "// ordNumber.compare示例\n",
    "console.log(ordNumber.compare(1, 2)) // -1\n",
    "console.log(ordNumber.compare(1, 1)) // 0\n",
    "console.log(ordNumber.compare(2, 1)) // 1\n",
    "\n",
    "/**\n",
    " * User类型定义\n",
    " */\n",
    "type User = {\n",
    "  name: string\n",
    "  age: number\n",
    "}\n",
    "\n",
    "/**\n",
    " * 按年龄比较User的Ord实例\n",
    " */\n",
    "const ordUserByAge: Ord<User> = fromCompare((x, y) => ordNumber.compare(x.age, y.age));\n",
    "\n",
    "console.log(ordUserByAge.compare({ name: 'Alice', age: 30 }, { name: 'Bob', age: 25 })) // 1\n",
    "\n",
    "/**\n",
    " * 使用Ord，可以实现最小值、最大值比较\n",
    " */\n",
    "const min = <A>(O: Ord<A>) => (x: A, y: A) => O.compare(x, y) === 1 ? y : x;\n",
    "const reverse = <A>(O: Ord<A>) => fromCompare((x: A, y: A) => O.compare(y, x))\n",
    "const max = <A>(O: Ord<A>) => (x: A, y: A) => min(reverse(O))(x, y)\n",
    "\n",
    "console.log(min(ordNumber)(3, 2)) // 2\n",
    "console.log(max(ordNumber)(3, 2)) // 3\n",
    "console.log(min(ordUserByAge)({ name: 'Alice', age: 30 }, { name: 'Bob', age: 25 })) // { name: 'Bob', age: 25 }\n",
    "console.log(max(ordUserByAge)({ name: 'Alice', age: 30 }, { name: 'Bob', age: 25 })) // { name: 'Alice', age: 30 }"
   ]
  },
  {
   "cell_type": "markdown",
   "id": "f4b2e913",
   "metadata": {},
   "source": [
    "## Semigroup\n",
    "\n",
    "在函数式编程中，**Semigroup**（半群）是一种非常基础的类型类。它描述了一类可以“合并”自身元素的类型，Semigroup可以用以下形式描述\n",
    "- (A, *)\n",
    "其中`A`为一个非空集合，`*`为`A`上的一个二元结合运算（通常称之为`concat`或者`combine`），也即函数。它接受`A`的两个元素作为输入，并返回`A`的一个元素作为输出：\n",
    "> *: (x: A, y: A) => A\n",
    "\n",
    "Semigroup的几个典型例子:\n",
    "* (number, *): (x: number, y: number) => x * y\n",
    "* (string, *): (x: string, y: string) => x + y\n",
    "* (boolean, &&): (x: boolean, y: boolean) => x && y\n",
    "结合律: </br>\n",
    "Semigroup定义中，要求对元素的操作满足**结合律**：对于任意a、b、c：`concat(a, concat(b, c)) === (concat(a, b), c)`\n"
   ]
  },
  {
   "cell_type": "markdown",
   "id": "7df24771",
   "metadata": {},
   "source": [
    "### Semigroup type class definition"
   ]
  },
  {
   "cell_type": "code",
   "execution_count": 3,
   "id": "3613b448",
   "metadata": {},
   "outputs": [],
   "source": [
    "interface Semigroup<A> {\n",
    "  readonly concat: (x: A, y: A) => A;\n",
    "}\n",
    "\n",
    "/**\n",
    " * A number semigroup under addition\n",
    " */\n",
    "const semigroupSum: Semigroup<number> = {\n",
    "  concat: (x, y) => x + y\n",
    "}\n",
    "\n",
    "/**\n",
    " * A string semigroup under `concat`\n",
    " */\n",
    "const semigroupString: Semigroup<string> = {\n",
    "  concat: (x, y) => x + y\n",
    "}\n",
    "\n",
    "/**\n",
    " * Always return the first argument\n",
    " */\n",
    "function getFirstSemigroup<A=never>(): Semigroup<A> {\n",
    "  return {\n",
    "    concat: (x, y) => x\n",
    "  }\n",
    "}\n",
    "\n",
    "/**\n",
    " * Always return the second argument\n",
    " */\n",
    "function getLastSemigroup<A=never>(): Semigroup<A> {\n",
    "  return {\n",
    "    concat: (x, y) => y\n",
    "  }\n",
    "}"
   ]
  }
 ],
 "metadata": {
  "kernelspec": {
   "display_name": "Deno",
   "language": "typescript",
   "name": "deno"
  },
  "language_info": {
   "codemirror_mode": "typescript",
   "file_extension": ".ts",
   "mimetype": "text/x.typescript",
   "name": "typescript",
   "nbconvert_exporter": "script",
   "pygments_lexer": "typescript",
   "version": "5.8.3"
  }
 },
 "nbformat": 4,
 "nbformat_minor": 5
}
