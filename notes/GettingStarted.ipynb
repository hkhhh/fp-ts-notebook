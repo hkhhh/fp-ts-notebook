{
 "cells": [
  {
   "cell_type": "markdown",
   "id": "95ae5d74",
   "metadata": {},
   "source": [
    "# Getting started\n",
    "\n",
    "函数式编程基础"
   ]
  }
 ],
 "metadata": {
  "kernelspec": {
   "display_name": "Deno",
   "language": "typescript",
   "name": "deno"
  },
  "language_info": {
   "name": "typescript"
  }
 },
 "nbformat": 4,
 "nbformat_minor": 5
}
