{
 "cells": [
  {
   "cell_type": "markdown",
   "id": "95ae5d74",
   "metadata": {},
   "source": [
    "# Getting started\n",
    "\n",
    "TypeScript函数式编程基础"
   ]
  },
  {
   "cell_type": "markdown",
   "id": "ac91c700",
   "metadata": {},
   "source": [
    "## 类型类(Type Class)与实例(instance)\n",
    "\n",
    "### Type Class\n",
    "> 在函数编程中，开发者常常会去定义通过定义一组“操作”(函数/变量)，并将这些“操作”应用于某个类型。Type Class强调的是类型行为的抽象和扩展。\n",
    "在TypeScript中，常用 `interface` 声明一个Type Class，例如："
   ]
  },
  {
   "cell_type": "code",
   "execution_count": null,
   "id": "f8215f45",
   "metadata": {},
   "outputs": [],
   "source": [
    "interface Eq<A> {\n",
    "  /** returns `true` if `x` is equal to `y` */\n",
    "  readonly equals: (x: A, y: A) => boolean\n",
    "}"
   ]
  },
  {
   "cell_type": "markdown",
   "id": "1d6a2ee3",
   "metadata": {},
   "source": [
    "上面示例中，类型 `A` 属于类型类 `Eq`，并为类型 `A` 应用 `equals` 函数。"
   ]
  },
  {
   "cell_type": "markdown",
   "id": "48b85cf0",
   "metadata": {},
   "source": [
    "### instance\n",
    "instance即为某个具体类型的类型类实现，必须满足以下定律：\n",
    "* 自反性（Reflexivity）：对于集合A中的任意x，equals(x, x) === true\n",
    "* 对称性（Symmetry）：对于集合A中的任意x、y，equals(x, y) === equals(y, x)\n",
    "* 传递性（Transitivity）：对于集合A中的任意x、y、z，如果equals(x, y) === true 且 equals(y, z) === true，则 equals(x, z) === true"
   ]
  },
  {
   "cell_type": "code",
   "execution_count": 11,
   "id": "0b32eab5",
   "metadata": {},
   "outputs": [],
   "source": [
    "const eqNumber: Eq<number> = {\n",
    "  equals: (x, y) => x === y\n",
    "}"
   ]
  },
  {
   "cell_type": "markdown",
   "id": "55b05c4e",
   "metadata": {},
   "source": [
    "[维基百科](https://zh.wikipedia.org/wiki/%E7%B1%BB%E5%9E%8B%E7%B1%BB)中对类型类的解释中有提到，一个类型类往往会涉及到一个**类型类T**和**类型变量a**，我们可以据此理解上述示例中:\n",
    "```\n",
    "                ┌─── 类型类\n",
    "                |    ┌─── 类型变量number\n",
    "                ▼    ▼\n",
    "const eqNumber: Eq<number>\n",
    "```"
   ]
  }
 ],
 "metadata": {
  "kernelspec": {
   "display_name": "Deno",
   "language": "typescript",
   "name": "deno"
  },
  "language_info": {
   "codemirror_mode": "typescript",
   "file_extension": ".ts",
   "mimetype": "text/x.typescript",
   "name": "typescript",
   "nbconvert_exporter": "script",
   "pygments_lexer": "typescript",
   "version": "5.8.3"
  }
 },
 "nbformat": 4,
 "nbformat_minor": 5
}
